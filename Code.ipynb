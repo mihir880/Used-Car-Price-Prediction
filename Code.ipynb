{
  "cells": [
    {
      "cell_type": "markdown",
      "metadata": {
        "id": "pg-sUc-Wv-i2"
      },
      "source": [
        "Mount the google drive in colab where the csv file is located"
      ]
    },
    {
      "cell_type": "code",
      "execution_count": null,
      "metadata": {
        "colab": {
          "base_uri": "https://localhost:8080/"
        },
        "id": "FZyZevtVmStW",
        "outputId": "ef819d59-4214-4f2c-9c46-a8192ccbcb8e"
      },
      "outputs": [
        {
          "name": "stdout",
          "output_type": "stream",
          "text": [
            "Drive already mounted at /content/drive; to attempt to forcibly remount, call drive.mount(\"/content/drive\", force_remount=True).\n"
          ]
        }
      ],
      "source": [
        "from google.colab import drive\n",
        "drive.mount('/content/drive')"
      ]
    },
    {
      "cell_type": "markdown",
      "metadata": {
        "id": "uWRxrGufwb8n"
      },
      "source": [
        "Import the required libraries for the project"
      ]
    },
    {
      "cell_type": "code",
      "execution_count": null,
      "metadata": {
        "id": "LEBIlVXKm13B"
      },
      "outputs": [],
      "source": [
        "# import the required libraries\n",
        "import pandas as pd\n",
        "import numpy as np\n",
        "import re\n",
        "import seaborn as sns\n",
        "import matplotlib.pyplot as plt"
      ]
    },
    {
      "cell_type": "markdown",
      "metadata": {
        "id": "KhIfeUnPwitH"
      },
      "source": [
        "**Data Cleaning**\n",
        "\n",
        "Here we drop the unnecessary columns which aren't required for linear regression.\n",
        "\n",
        "We are analysing only petrol and diesel cars in our project.\n"
      ]
    },
    {
      "cell_type": "code",
      "execution_count": null,
      "metadata": {
        "id": "hQBXGLiSxpTA"
      },
      "outputs": [],
      "source": [
        "# Read the csv file into Pandas dataframe\n",
        "df = pd.read_csv('/content/drive/MyDrive/data.csv')"
      ]
    },
    {
      "cell_type": "code",
      "execution_count": null,
      "metadata": {
        "colab": {
          "base_uri": "https://localhost:8080/",
          "height": 417
        },
        "id": "Ja4cMX0bxxAA",
        "outputId": "2cc5e3ef-9cae-4246-af64-1b9bde43e189"
      },
      "outputs": [
        {
          "data": {
            "application/vnd.google.colaboratory.intrinsic+json": {
              "type": "dataframe",
              "variable_name": "df"
            },
            "text/html": [
              "\n",
              "  <div id=\"df-c7b52718-4263-4ba5-9d47-1385aa694fec\" class=\"colab-df-container\">\n",
              "    <div>\n",
              "<style scoped>\n",
              "    .dataframe tbody tr th:only-of-type {\n",
              "        vertical-align: middle;\n",
              "    }\n",
              "\n",
              "    .dataframe tbody tr th {\n",
              "        vertical-align: top;\n",
              "    }\n",
              "\n",
              "    .dataframe thead th {\n",
              "        text-align: right;\n",
              "    }\n",
              "</style>\n",
              "<table border=\"1\" class=\"dataframe\">\n",
              "  <thead>\n",
              "    <tr style=\"text-align: right;\">\n",
              "      <th></th>\n",
              "      <th>Unnamed: 0</th>\n",
              "      <th>brand</th>\n",
              "      <th>model</th>\n",
              "      <th>color</th>\n",
              "      <th>registration_date</th>\n",
              "      <th>year</th>\n",
              "      <th>price_in_euro</th>\n",
              "      <th>power_kw</th>\n",
              "      <th>power_ps</th>\n",
              "      <th>transmission_type</th>\n",
              "      <th>fuel_type</th>\n",
              "      <th>fuel_consumption_l_100km</th>\n",
              "      <th>fuel_consumption_g_km</th>\n",
              "      <th>mileage_in_km</th>\n",
              "      <th>offer_description</th>\n",
              "    </tr>\n",
              "  </thead>\n",
              "  <tbody>\n",
              "    <tr>\n",
              "      <th>0</th>\n",
              "      <td>0</td>\n",
              "      <td>alfa-romeo</td>\n",
              "      <td>Alfa Romeo GTV</td>\n",
              "      <td>red</td>\n",
              "      <td>10/1995</td>\n",
              "      <td>1995</td>\n",
              "      <td>1300</td>\n",
              "      <td>148</td>\n",
              "      <td>201</td>\n",
              "      <td>Manual</td>\n",
              "      <td>Petrol</td>\n",
              "      <td>10,9 l/100 km</td>\n",
              "      <td>260 g/km</td>\n",
              "      <td>160500.0</td>\n",
              "      <td>2.0 V6 TB</td>\n",
              "    </tr>\n",
              "    <tr>\n",
              "      <th>1</th>\n",
              "      <td>1</td>\n",
              "      <td>alfa-romeo</td>\n",
              "      <td>Alfa Romeo 164</td>\n",
              "      <td>black</td>\n",
              "      <td>02/1995</td>\n",
              "      <td>1995</td>\n",
              "      <td>24900</td>\n",
              "      <td>191</td>\n",
              "      <td>260</td>\n",
              "      <td>Manual</td>\n",
              "      <td>Petrol</td>\n",
              "      <td>NaN</td>\n",
              "      <td>- (g/km)</td>\n",
              "      <td>190000.0</td>\n",
              "      <td>Q4 Allrad, 3.2L GTA</td>\n",
              "    </tr>\n",
              "    <tr>\n",
              "      <th>2</th>\n",
              "      <td>2</td>\n",
              "      <td>alfa-romeo</td>\n",
              "      <td>Alfa Romeo Spider</td>\n",
              "      <td>black</td>\n",
              "      <td>02/1995</td>\n",
              "      <td>1995</td>\n",
              "      <td>5900</td>\n",
              "      <td>110</td>\n",
              "      <td>150</td>\n",
              "      <td>Unknown</td>\n",
              "      <td>Petrol</td>\n",
              "      <td>NaN</td>\n",
              "      <td>- (g/km)</td>\n",
              "      <td>129000.0</td>\n",
              "      <td>ALFA ROME 916</td>\n",
              "    </tr>\n",
              "    <tr>\n",
              "      <th>3</th>\n",
              "      <td>3</td>\n",
              "      <td>alfa-romeo</td>\n",
              "      <td>Alfa Romeo Spider</td>\n",
              "      <td>black</td>\n",
              "      <td>07/1995</td>\n",
              "      <td>1995</td>\n",
              "      <td>4900</td>\n",
              "      <td>110</td>\n",
              "      <td>150</td>\n",
              "      <td>Manual</td>\n",
              "      <td>Petrol</td>\n",
              "      <td>9,5 l/100 km</td>\n",
              "      <td>225 g/km</td>\n",
              "      <td>189500.0</td>\n",
              "      <td>2.0 16V Twin Spark L</td>\n",
              "    </tr>\n",
              "    <tr>\n",
              "      <th>4</th>\n",
              "      <td>4</td>\n",
              "      <td>alfa-romeo</td>\n",
              "      <td>Alfa Romeo 164</td>\n",
              "      <td>red</td>\n",
              "      <td>11/1996</td>\n",
              "      <td>1996</td>\n",
              "      <td>17950</td>\n",
              "      <td>132</td>\n",
              "      <td>179</td>\n",
              "      <td>Manual</td>\n",
              "      <td>Petrol</td>\n",
              "      <td>7,2 l/100 km</td>\n",
              "      <td>- (g/km)</td>\n",
              "      <td>96127.0</td>\n",
              "      <td>3.0i Super V6, absoluter Topzustand !</td>\n",
              "    </tr>\n",
              "  </tbody>\n",
              "</table>\n",
              "</div>\n",
              "    <div class=\"colab-df-buttons\">\n",
              "\n",
              "  <div class=\"colab-df-container\">\n",
              "    <button class=\"colab-df-convert\" onclick=\"convertToInteractive('df-c7b52718-4263-4ba5-9d47-1385aa694fec')\"\n",
              "            title=\"Convert this dataframe to an interactive table.\"\n",
              "            style=\"display:none;\">\n",
              "\n",
              "  <svg xmlns=\"http://www.w3.org/2000/svg\" height=\"24px\" viewBox=\"0 -960 960 960\">\n",
              "    <path d=\"M120-120v-720h720v720H120Zm60-500h600v-160H180v160Zm220 220h160v-160H400v160Zm0 220h160v-160H400v160ZM180-400h160v-160H180v160Zm440 0h160v-160H620v160ZM180-180h160v-160H180v160Zm440 0h160v-160H620v160Z\"/>\n",
              "  </svg>\n",
              "    </button>\n",
              "\n",
              "  <style>\n",
              "    .colab-df-container {\n",
              "      display:flex;\n",
              "      gap: 12px;\n",
              "    }\n",
              "\n",
              "    .colab-df-convert {\n",
              "      background-color: #E8F0FE;\n",
              "      border: none;\n",
              "      border-radius: 50%;\n",
              "      cursor: pointer;\n",
              "      display: none;\n",
              "      fill: #1967D2;\n",
              "      height: 32px;\n",
              "      padding: 0 0 0 0;\n",
              "      width: 32px;\n",
              "    }\n",
              "\n",
              "    .colab-df-convert:hover {\n",
              "      background-color: #E2EBFA;\n",
              "      box-shadow: 0px 1px 2px rgba(60, 64, 67, 0.3), 0px 1px 3px 1px rgba(60, 64, 67, 0.15);\n",
              "      fill: #174EA6;\n",
              "    }\n",
              "\n",
              "    .colab-df-buttons div {\n",
              "      margin-bottom: 4px;\n",
              "    }\n",
              "\n",
              "    [theme=dark] .colab-df-convert {\n",
              "      background-color: #3B4455;\n",
              "      fill: #D2E3FC;\n",
              "    }\n",
              "\n",
              "    [theme=dark] .colab-df-convert:hover {\n",
              "      background-color: #434B5C;\n",
              "      box-shadow: 0px 1px 3px 1px rgba(0, 0, 0, 0.15);\n",
              "      filter: drop-shadow(0px 1px 2px rgba(0, 0, 0, 0.3));\n",
              "      fill: #FFFFFF;\n",
              "    }\n",
              "  </style>\n",
              "\n",
              "    <script>\n",
              "      const buttonEl =\n",
              "        document.querySelector('#df-c7b52718-4263-4ba5-9d47-1385aa694fec button.colab-df-convert');\n",
              "      buttonEl.style.display =\n",
              "        google.colab.kernel.accessAllowed ? 'block' : 'none';\n",
              "\n",
              "      async function convertToInteractive(key) {\n",
              "        const element = document.querySelector('#df-c7b52718-4263-4ba5-9d47-1385aa694fec');\n",
              "        const dataTable =\n",
              "          await google.colab.kernel.invokeFunction('convertToInteractive',\n",
              "                                                    [key], {});\n",
              "        if (!dataTable) return;\n",
              "\n",
              "        const docLinkHtml = 'Like what you see? Visit the ' +\n",
              "          '<a target=\"_blank\" href=https://colab.research.google.com/notebooks/data_table.ipynb>data table notebook</a>'\n",
              "          + ' to learn more about interactive tables.';\n",
              "        element.innerHTML = '';\n",
              "        dataTable['output_type'] = 'display_data';\n",
              "        await google.colab.output.renderOutput(dataTable, element);\n",
              "        const docLink = document.createElement('div');\n",
              "        docLink.innerHTML = docLinkHtml;\n",
              "        element.appendChild(docLink);\n",
              "      }\n",
              "    </script>\n",
              "  </div>\n",
              "\n",
              "\n",
              "<div id=\"df-70f386a8-a7ea-4754-ac3a-c7ea73381091\">\n",
              "  <button class=\"colab-df-quickchart\" onclick=\"quickchart('df-70f386a8-a7ea-4754-ac3a-c7ea73381091')\"\n",
              "            title=\"Suggest charts\"\n",
              "            style=\"display:none;\">\n",
              "\n",
              "<svg xmlns=\"http://www.w3.org/2000/svg\" height=\"24px\"viewBox=\"0 0 24 24\"\n",
              "     width=\"24px\">\n",
              "    <g>\n",
              "        <path d=\"M19 3H5c-1.1 0-2 .9-2 2v14c0 1.1.9 2 2 2h14c1.1 0 2-.9 2-2V5c0-1.1-.9-2-2-2zM9 17H7v-7h2v7zm4 0h-2V7h2v10zm4 0h-2v-4h2v4z\"/>\n",
              "    </g>\n",
              "</svg>\n",
              "  </button>\n",
              "\n",
              "<style>\n",
              "  .colab-df-quickchart {\n",
              "      --bg-color: #E8F0FE;\n",
              "      --fill-color: #1967D2;\n",
              "      --hover-bg-color: #E2EBFA;\n",
              "      --hover-fill-color: #174EA6;\n",
              "      --disabled-fill-color: #AAA;\n",
              "      --disabled-bg-color: #DDD;\n",
              "  }\n",
              "\n",
              "  [theme=dark] .colab-df-quickchart {\n",
              "      --bg-color: #3B4455;\n",
              "      --fill-color: #D2E3FC;\n",
              "      --hover-bg-color: #434B5C;\n",
              "      --hover-fill-color: #FFFFFF;\n",
              "      --disabled-bg-color: #3B4455;\n",
              "      --disabled-fill-color: #666;\n",
              "  }\n",
              "\n",
              "  .colab-df-quickchart {\n",
              "    background-color: var(--bg-color);\n",
              "    border: none;\n",
              "    border-radius: 50%;\n",
              "    cursor: pointer;\n",
              "    display: none;\n",
              "    fill: var(--fill-color);\n",
              "    height: 32px;\n",
              "    padding: 0;\n",
              "    width: 32px;\n",
              "  }\n",
              "\n",
              "  .colab-df-quickchart:hover {\n",
              "    background-color: var(--hover-bg-color);\n",
              "    box-shadow: 0 1px 2px rgba(60, 64, 67, 0.3), 0 1px 3px 1px rgba(60, 64, 67, 0.15);\n",
              "    fill: var(--button-hover-fill-color);\n",
              "  }\n",
              "\n",
              "  .colab-df-quickchart-complete:disabled,\n",
              "  .colab-df-quickchart-complete:disabled:hover {\n",
              "    background-color: var(--disabled-bg-color);\n",
              "    fill: var(--disabled-fill-color);\n",
              "    box-shadow: none;\n",
              "  }\n",
              "\n",
              "  .colab-df-spinner {\n",
              "    border: 2px solid var(--fill-color);\n",
              "    border-color: transparent;\n",
              "    border-bottom-color: var(--fill-color);\n",
              "    animation:\n",
              "      spin 1s steps(1) infinite;\n",
              "  }\n",
              "\n",
              "  @keyframes spin {\n",
              "    0% {\n",
              "      border-color: transparent;\n",
              "      border-bottom-color: var(--fill-color);\n",
              "      border-left-color: var(--fill-color);\n",
              "    }\n",
              "    20% {\n",
              "      border-color: transparent;\n",
              "      border-left-color: var(--fill-color);\n",
              "      border-top-color: var(--fill-color);\n",
              "    }\n",
              "    30% {\n",
              "      border-color: transparent;\n",
              "      border-left-color: var(--fill-color);\n",
              "      border-top-color: var(--fill-color);\n",
              "      border-right-color: var(--fill-color);\n",
              "    }\n",
              "    40% {\n",
              "      border-color: transparent;\n",
              "      border-right-color: var(--fill-color);\n",
              "      border-top-color: var(--fill-color);\n",
              "    }\n",
              "    60% {\n",
              "      border-color: transparent;\n",
              "      border-right-color: var(--fill-color);\n",
              "    }\n",
              "    80% {\n",
              "      border-color: transparent;\n",
              "      border-right-color: var(--fill-color);\n",
              "      border-bottom-color: var(--fill-color);\n",
              "    }\n",
              "    90% {\n",
              "      border-color: transparent;\n",
              "      border-bottom-color: var(--fill-color);\n",
              "    }\n",
              "  }\n",
              "</style>\n",
              "\n",
              "  <script>\n",
              "    async function quickchart(key) {\n",
              "      const quickchartButtonEl =\n",
              "        document.querySelector('#' + key + ' button');\n",
              "      quickchartButtonEl.disabled = true;  // To prevent multiple clicks.\n",
              "      quickchartButtonEl.classList.add('colab-df-spinner');\n",
              "      try {\n",
              "        const charts = await google.colab.kernel.invokeFunction(\n",
              "            'suggestCharts', [key], {});\n",
              "      } catch (error) {\n",
              "        console.error('Error during call to suggestCharts:', error);\n",
              "      }\n",
              "      quickchartButtonEl.classList.remove('colab-df-spinner');\n",
              "      quickchartButtonEl.classList.add('colab-df-quickchart-complete');\n",
              "    }\n",
              "    (() => {\n",
              "      let quickchartButtonEl =\n",
              "        document.querySelector('#df-70f386a8-a7ea-4754-ac3a-c7ea73381091 button');\n",
              "      quickchartButtonEl.style.display =\n",
              "        google.colab.kernel.accessAllowed ? 'block' : 'none';\n",
              "    })();\n",
              "  </script>\n",
              "</div>\n",
              "    </div>\n",
              "  </div>\n"
            ],
            "text/plain": [
              "   Unnamed: 0       brand              model  color registration_date  year  \\\n",
              "0           0  alfa-romeo     Alfa Romeo GTV    red           10/1995  1995   \n",
              "1           1  alfa-romeo     Alfa Romeo 164  black           02/1995  1995   \n",
              "2           2  alfa-romeo  Alfa Romeo Spider  black           02/1995  1995   \n",
              "3           3  alfa-romeo  Alfa Romeo Spider  black           07/1995  1995   \n",
              "4           4  alfa-romeo     Alfa Romeo 164    red           11/1996  1996   \n",
              "\n",
              "  price_in_euro power_kw power_ps transmission_type fuel_type  \\\n",
              "0          1300      148      201            Manual    Petrol   \n",
              "1         24900      191      260            Manual    Petrol   \n",
              "2          5900      110      150           Unknown    Petrol   \n",
              "3          4900      110      150            Manual    Petrol   \n",
              "4         17950      132      179            Manual    Petrol   \n",
              "\n",
              "  fuel_consumption_l_100km fuel_consumption_g_km  mileage_in_km  \\\n",
              "0            10,9 l/100 km              260 g/km       160500.0   \n",
              "1                      NaN              - (g/km)       190000.0   \n",
              "2                      NaN              - (g/km)       129000.0   \n",
              "3             9,5 l/100 km              225 g/km       189500.0   \n",
              "4             7,2 l/100 km              - (g/km)        96127.0   \n",
              "\n",
              "                       offer_description  \n",
              "0                              2.0 V6 TB  \n",
              "1                    Q4 Allrad, 3.2L GTA  \n",
              "2                          ALFA ROME 916  \n",
              "3                   2.0 16V Twin Spark L  \n",
              "4  3.0i Super V6, absoluter Topzustand !  "
            ]
          },
          "execution_count": 4,
          "metadata": {},
          "output_type": "execute_result"
        }
      ],
      "source": [
        "df.head()"
      ]
    },
    {
      "cell_type": "markdown",
      "metadata": {
        "id": "PnOa8ZEFz-gD"
      },
      "source": [
        "Dropping unnecessary columns"
      ]
    },
    {
      "cell_type": "code",
      "execution_count": null,
      "metadata": {
        "colab": {
          "base_uri": "https://localhost:8080/"
        },
        "id": "MwN_OzYhz9CA",
        "outputId": "5e775e45-ec97-4097-97de-6829d0032919"
      },
      "outputs": [
        {
          "data": {
            "text/plain": [
              "brand                           0\n",
              "year                            0\n",
              "price_in_euro                   0\n",
              "power_kw                      134\n",
              "transmission_type               0\n",
              "fuel_type                       0\n",
              "fuel_consumption_l_100km    26873\n",
              "mileage_in_km                 152\n",
              "dtype: int64"
            ]
          },
          "execution_count": 5,
          "metadata": {},
          "output_type": "execute_result"
        }
      ],
      "source": [
        "# Dropping unnecessary columns\n",
        "dropped_columns = ['Unnamed: 0', 'model', 'color', 'registration_date', 'power_ps', 'fuel_consumption_g_km', 'offer_description']\n",
        "for column_name in dropped_columns:\n",
        "  df = df.drop(column_name, axis=1)\n",
        "\n",
        "df.isnull().sum()"
      ]
    },
    {
      "cell_type": "code",
      "execution_count": null,
      "metadata": {
        "colab": {
          "base_uri": "https://localhost:8080/",
          "height": 206
        },
        "id": "t1uvpU1T_qb0",
        "outputId": "ef41eb51-1a8b-425f-8622-e1939326de52"
      },
      "outputs": [
        {
          "data": {
            "application/vnd.google.colaboratory.intrinsic+json": {
              "type": "dataframe",
              "variable_name": "df"
            },
            "text/html": [
              "\n",
              "  <div id=\"df-d29afa38-6bb0-42e4-b141-1d4e0c3e9050\" class=\"colab-df-container\">\n",
              "    <div>\n",
              "<style scoped>\n",
              "    .dataframe tbody tr th:only-of-type {\n",
              "        vertical-align: middle;\n",
              "    }\n",
              "\n",
              "    .dataframe tbody tr th {\n",
              "        vertical-align: top;\n",
              "    }\n",
              "\n",
              "    .dataframe thead th {\n",
              "        text-align: right;\n",
              "    }\n",
              "</style>\n",
              "<table border=\"1\" class=\"dataframe\">\n",
              "  <thead>\n",
              "    <tr style=\"text-align: right;\">\n",
              "      <th></th>\n",
              "      <th>brand</th>\n",
              "      <th>year</th>\n",
              "      <th>price_in_euro</th>\n",
              "      <th>power_kw</th>\n",
              "      <th>transmission_type</th>\n",
              "      <th>fuel_type</th>\n",
              "      <th>fuel_consumption_l_100km</th>\n",
              "      <th>mileage_in_km</th>\n",
              "    </tr>\n",
              "  </thead>\n",
              "  <tbody>\n",
              "    <tr>\n",
              "      <th>0</th>\n",
              "      <td>alfa-romeo</td>\n",
              "      <td>1995</td>\n",
              "      <td>1300</td>\n",
              "      <td>148</td>\n",
              "      <td>Manual</td>\n",
              "      <td>Petrol</td>\n",
              "      <td>10,9 l/100 km</td>\n",
              "      <td>160500.0</td>\n",
              "    </tr>\n",
              "    <tr>\n",
              "      <th>1</th>\n",
              "      <td>alfa-romeo</td>\n",
              "      <td>1995</td>\n",
              "      <td>24900</td>\n",
              "      <td>191</td>\n",
              "      <td>Manual</td>\n",
              "      <td>Petrol</td>\n",
              "      <td>NaN</td>\n",
              "      <td>190000.0</td>\n",
              "    </tr>\n",
              "    <tr>\n",
              "      <th>2</th>\n",
              "      <td>alfa-romeo</td>\n",
              "      <td>1995</td>\n",
              "      <td>5900</td>\n",
              "      <td>110</td>\n",
              "      <td>Unknown</td>\n",
              "      <td>Petrol</td>\n",
              "      <td>NaN</td>\n",
              "      <td>129000.0</td>\n",
              "    </tr>\n",
              "    <tr>\n",
              "      <th>3</th>\n",
              "      <td>alfa-romeo</td>\n",
              "      <td>1995</td>\n",
              "      <td>4900</td>\n",
              "      <td>110</td>\n",
              "      <td>Manual</td>\n",
              "      <td>Petrol</td>\n",
              "      <td>9,5 l/100 km</td>\n",
              "      <td>189500.0</td>\n",
              "    </tr>\n",
              "    <tr>\n",
              "      <th>4</th>\n",
              "      <td>alfa-romeo</td>\n",
              "      <td>1996</td>\n",
              "      <td>17950</td>\n",
              "      <td>132</td>\n",
              "      <td>Manual</td>\n",
              "      <td>Petrol</td>\n",
              "      <td>7,2 l/100 km</td>\n",
              "      <td>96127.0</td>\n",
              "    </tr>\n",
              "  </tbody>\n",
              "</table>\n",
              "</div>\n",
              "    <div class=\"colab-df-buttons\">\n",
              "\n",
              "  <div class=\"colab-df-container\">\n",
              "    <button class=\"colab-df-convert\" onclick=\"convertToInteractive('df-d29afa38-6bb0-42e4-b141-1d4e0c3e9050')\"\n",
              "            title=\"Convert this dataframe to an interactive table.\"\n",
              "            style=\"display:none;\">\n",
              "\n",
              "  <svg xmlns=\"http://www.w3.org/2000/svg\" height=\"24px\" viewBox=\"0 -960 960 960\">\n",
              "    <path d=\"M120-120v-720h720v720H120Zm60-500h600v-160H180v160Zm220 220h160v-160H400v160Zm0 220h160v-160H400v160ZM180-400h160v-160H180v160Zm440 0h160v-160H620v160ZM180-180h160v-160H180v160Zm440 0h160v-160H620v160Z\"/>\n",
              "  </svg>\n",
              "    </button>\n",
              "\n",
              "  <style>\n",
              "    .colab-df-container {\n",
              "      display:flex;\n",
              "      gap: 12px;\n",
              "    }\n",
              "\n",
              "    .colab-df-convert {\n",
              "      background-color: #E8F0FE;\n",
              "      border: none;\n",
              "      border-radius: 50%;\n",
              "      cursor: pointer;\n",
              "      display: none;\n",
              "      fill: #1967D2;\n",
              "      height: 32px;\n",
              "      padding: 0 0 0 0;\n",
              "      width: 32px;\n",
              "    }\n",
              "\n",
              "    .colab-df-convert:hover {\n",
              "      background-color: #E2EBFA;\n",
              "      box-shadow: 0px 1px 2px rgba(60, 64, 67, 0.3), 0px 1px 3px 1px rgba(60, 64, 67, 0.15);\n",
              "      fill: #174EA6;\n",
              "    }\n",
              "\n",
              "    .colab-df-buttons div {\n",
              "      margin-bottom: 4px;\n",
              "    }\n",
              "\n",
              "    [theme=dark] .colab-df-convert {\n",
              "      background-color: #3B4455;\n",
              "      fill: #D2E3FC;\n",
              "    }\n",
              "\n",
              "    [theme=dark] .colab-df-convert:hover {\n",
              "      background-color: #434B5C;\n",
              "      box-shadow: 0px 1px 3px 1px rgba(0, 0, 0, 0.15);\n",
              "      filter: drop-shadow(0px 1px 2px rgba(0, 0, 0, 0.3));\n",
              "      fill: #FFFFFF;\n",
              "    }\n",
              "  </style>\n",
              "\n",
              "    <script>\n",
              "      const buttonEl =\n",
              "        document.querySelector('#df-d29afa38-6bb0-42e4-b141-1d4e0c3e9050 button.colab-df-convert');\n",
              "      buttonEl.style.display =\n",
              "        google.colab.kernel.accessAllowed ? 'block' : 'none';\n",
              "\n",
              "      async function convertToInteractive(key) {\n",
              "        const element = document.querySelector('#df-d29afa38-6bb0-42e4-b141-1d4e0c3e9050');\n",
              "        const dataTable =\n",
              "          await google.colab.kernel.invokeFunction('convertToInteractive',\n",
              "                                                    [key], {});\n",
              "        if (!dataTable) return;\n",
              "\n",
              "        const docLinkHtml = 'Like what you see? Visit the ' +\n",
              "          '<a target=\"_blank\" href=https://colab.research.google.com/notebooks/data_table.ipynb>data table notebook</a>'\n",
              "          + ' to learn more about interactive tables.';\n",
              "        element.innerHTML = '';\n",
              "        dataTable['output_type'] = 'display_data';\n",
              "        await google.colab.output.renderOutput(dataTable, element);\n",
              "        const docLink = document.createElement('div');\n",
              "        docLink.innerHTML = docLinkHtml;\n",
              "        element.appendChild(docLink);\n",
              "      }\n",
              "    </script>\n",
              "  </div>\n",
              "\n",
              "\n",
              "<div id=\"df-113eee5e-8ffe-4a7f-8355-86c030d066b2\">\n",
              "  <button class=\"colab-df-quickchart\" onclick=\"quickchart('df-113eee5e-8ffe-4a7f-8355-86c030d066b2')\"\n",
              "            title=\"Suggest charts\"\n",
              "            style=\"display:none;\">\n",
              "\n",
              "<svg xmlns=\"http://www.w3.org/2000/svg\" height=\"24px\"viewBox=\"0 0 24 24\"\n",
              "     width=\"24px\">\n",
              "    <g>\n",
              "        <path d=\"M19 3H5c-1.1 0-2 .9-2 2v14c0 1.1.9 2 2 2h14c1.1 0 2-.9 2-2V5c0-1.1-.9-2-2-2zM9 17H7v-7h2v7zm4 0h-2V7h2v10zm4 0h-2v-4h2v4z\"/>\n",
              "    </g>\n",
              "</svg>\n",
              "  </button>\n",
              "\n",
              "<style>\n",
              "  .colab-df-quickchart {\n",
              "      --bg-color: #E8F0FE;\n",
              "      --fill-color: #1967D2;\n",
              "      --hover-bg-color: #E2EBFA;\n",
              "      --hover-fill-color: #174EA6;\n",
              "      --disabled-fill-color: #AAA;\n",
              "      --disabled-bg-color: #DDD;\n",
              "  }\n",
              "\n",
              "  [theme=dark] .colab-df-quickchart {\n",
              "      --bg-color: #3B4455;\n",
              "      --fill-color: #D2E3FC;\n",
              "      --hover-bg-color: #434B5C;\n",
              "      --hover-fill-color: #FFFFFF;\n",
              "      --disabled-bg-color: #3B4455;\n",
              "      --disabled-fill-color: #666;\n",
              "  }\n",
              "\n",
              "  .colab-df-quickchart {\n",
              "    background-color: var(--bg-color);\n",
              "    border: none;\n",
              "    border-radius: 50%;\n",
              "    cursor: pointer;\n",
              "    display: none;\n",
              "    fill: var(--fill-color);\n",
              "    height: 32px;\n",
              "    padding: 0;\n",
              "    width: 32px;\n",
              "  }\n",
              "\n",
              "  .colab-df-quickchart:hover {\n",
              "    background-color: var(--hover-bg-color);\n",
              "    box-shadow: 0 1px 2px rgba(60, 64, 67, 0.3), 0 1px 3px 1px rgba(60, 64, 67, 0.15);\n",
              "    fill: var(--button-hover-fill-color);\n",
              "  }\n",
              "\n",
              "  .colab-df-quickchart-complete:disabled,\n",
              "  .colab-df-quickchart-complete:disabled:hover {\n",
              "    background-color: var(--disabled-bg-color);\n",
              "    fill: var(--disabled-fill-color);\n",
              "    box-shadow: none;\n",
              "  }\n",
              "\n",
              "  .colab-df-spinner {\n",
              "    border: 2px solid var(--fill-color);\n",
              "    border-color: transparent;\n",
              "    border-bottom-color: var(--fill-color);\n",
              "    animation:\n",
              "      spin 1s steps(1) infinite;\n",
              "  }\n",
              "\n",
              "  @keyframes spin {\n",
              "    0% {\n",
              "      border-color: transparent;\n",
              "      border-bottom-color: var(--fill-color);\n",
              "      border-left-color: var(--fill-color);\n",
              "    }\n",
              "    20% {\n",
              "      border-color: transparent;\n",
              "      border-left-color: var(--fill-color);\n",
              "      border-top-color: var(--fill-color);\n",
              "    }\n",
              "    30% {\n",
              "      border-color: transparent;\n",
              "      border-left-color: var(--fill-color);\n",
              "      border-top-color: var(--fill-color);\n",
              "      border-right-color: var(--fill-color);\n",
              "    }\n",
              "    40% {\n",
              "      border-color: transparent;\n",
              "      border-right-color: var(--fill-color);\n",
              "      border-top-color: var(--fill-color);\n",
              "    }\n",
              "    60% {\n",
              "      border-color: transparent;\n",
              "      border-right-color: var(--fill-color);\n",
              "    }\n",
              "    80% {\n",
              "      border-color: transparent;\n",
              "      border-right-color: var(--fill-color);\n",
              "      border-bottom-color: var(--fill-color);\n",
              "    }\n",
              "    90% {\n",
              "      border-color: transparent;\n",
              "      border-bottom-color: var(--fill-color);\n",
              "    }\n",
              "  }\n",
              "</style>\n",
              "\n",
              "  <script>\n",
              "    async function quickchart(key) {\n",
              "      const quickchartButtonEl =\n",
              "        document.querySelector('#' + key + ' button');\n",
              "      quickchartButtonEl.disabled = true;  // To prevent multiple clicks.\n",
              "      quickchartButtonEl.classList.add('colab-df-spinner');\n",
              "      try {\n",
              "        const charts = await google.colab.kernel.invokeFunction(\n",
              "            'suggestCharts', [key], {});\n",
              "      } catch (error) {\n",
              "        console.error('Error during call to suggestCharts:', error);\n",
              "      }\n",
              "      quickchartButtonEl.classList.remove('colab-df-spinner');\n",
              "      quickchartButtonEl.classList.add('colab-df-quickchart-complete');\n",
              "    }\n",
              "    (() => {\n",
              "      let quickchartButtonEl =\n",
              "        document.querySelector('#df-113eee5e-8ffe-4a7f-8355-86c030d066b2 button');\n",
              "      quickchartButtonEl.style.display =\n",
              "        google.colab.kernel.accessAllowed ? 'block' : 'none';\n",
              "    })();\n",
              "  </script>\n",
              "</div>\n",
              "    </div>\n",
              "  </div>\n"
            ],
            "text/plain": [
              "        brand  year price_in_euro power_kw transmission_type fuel_type  \\\n",
              "0  alfa-romeo  1995          1300      148            Manual    Petrol   \n",
              "1  alfa-romeo  1995         24900      191            Manual    Petrol   \n",
              "2  alfa-romeo  1995          5900      110           Unknown    Petrol   \n",
              "3  alfa-romeo  1995          4900      110            Manual    Petrol   \n",
              "4  alfa-romeo  1996         17950      132            Manual    Petrol   \n",
              "\n",
              "  fuel_consumption_l_100km  mileage_in_km  \n",
              "0            10,9 l/100 km       160500.0  \n",
              "1                      NaN       190000.0  \n",
              "2                      NaN       129000.0  \n",
              "3             9,5 l/100 km       189500.0  \n",
              "4             7,2 l/100 km        96127.0  "
            ]
          },
          "execution_count": 6,
          "metadata": {},
          "output_type": "execute_result"
        }
      ],
      "source": [
        "df.head()\n"
      ]
    },
    {
      "cell_type": "code",
      "execution_count": null,
      "metadata": {
        "colab": {
          "base_uri": "https://localhost:8080/"
        },
        "id": "pW7cOsPpyIiD",
        "outputId": "2f51c278-51ed-4c22-e7aa-8bc334ba3077"
      },
      "outputs": [
        {
          "data": {
            "text/plain": [
              "array(['Manual', 'Unknown', 'Automatic', 'Semi-automatic'], dtype=object)"
            ]
          },
          "execution_count": 7,
          "metadata": {},
          "output_type": "execute_result"
        }
      ],
      "source": [
        "df.transmission_type.unique()"
      ]
    },
    {
      "cell_type": "code",
      "execution_count": null,
      "metadata": {
        "colab": {
          "base_uri": "https://localhost:8080/"
        },
        "id": "IPHVjkRMyM4m",
        "outputId": "959dc4ab-a4e3-45e2-d5bb-f6a48bcb96dc"
      },
      "outputs": [
        {
          "data": {
            "text/plain": [
              "array(['Petrol', 'Diesel', 'Hybrid', 'LPG', 'Other', '07/2004',\n",
              "       '74.194 km', '110.250 km', '06/2014', 'CNG', 'Diesel Hybrid',\n",
              "       '12/2016', 'Automatic', 'Electric', '12/2019', 'Unknown',\n",
              "       '06/2023', 'Ethanol', 'Manual', '300.000 km', '264.000 km',\n",
              "       'KETTE NEUE', '108.313 km', '05/2009', '180.000 km', '04/2013',\n",
              "       '03/2014', '08/2014', '01/2016', '03/2017', '04/2008', '07/2007',\n",
              "       '145.500 km', '12/2012', '25890', '10/2022', '06/2004', '09/2009',\n",
              "       '12/2014', '02/2017', '12890', '11/2018', '08/2018', '03/2019',\n",
              "       '19450', '11/2021', '20.600 km', 'Hydrogen', '07/2022', '05/2015',\n",
              "       '03/2018', '04/2022', '160.629 km', '144.919 km', '02/1996',\n",
              "       '04/2000', '200.000 km', '06/2009', '185.500 km', '13000',\n",
              "       '05/2012', '11/2014', '10/2015', '350.000 km', '49.817 km',\n",
              "       '34900', '35.487 km', '03/2021', '26890', '26990', '4.000 km',\n",
              "       '11/2005', '07/2005', '08/2011', '02/2011', '03/2011', '10/2013',\n",
              "       '09/2015', '02/2018', '02/2023', '08/2017', '99.900 km', '67780',\n",
              "       '30.450 km', '62.880 km', '116490', '119890', '29.990 km',\n",
              "       '39.990 km', '13.610 km', '139890', '179990', '9.900 km',\n",
              "       '6.900 km', '9.870 km', '25.600 km', '37.500 km', '13750',\n",
              "       '01/2021', '05/2021', '42.300 km', '08/2013', '02/2013', '04/2017',\n",
              "       '11/2017', '83.034 km', '70.300 km', '1.000 km', '01/2022', 'FSE',\n",
              "       '40919', '05/2023', '02/2009', 'DAB', '09/2019', '08/2019',\n",
              "       '12.300 km', '18790', '11/2022', '04/2023', '03/2023', '01/2023',\n",
              "       '07/1999', '02/2002', '08/2007', '05/2007', '6500', '9350',\n",
              "       'KD GEPL', '07/2015', '41600', '14900', '09/2017', '06/2017',\n",
              "       '06/2018', '06/2020'], dtype=object)"
            ]
          },
          "execution_count": 8,
          "metadata": {},
          "output_type": "execute_result"
        }
      ],
      "source": [
        "df.fuel_type.unique()"
      ]
    },
    {
      "cell_type": "markdown",
      "metadata": {
        "id": "yxtESpr2yl2Q"
      },
      "source": [
        "As we can see above, the fuel type has some garbage values when we inspect the unique values in the fuel_type column.\n",
        "\n",
        "We use only Petrol and Diesel cars in the dataset."
      ]
    },
    {
      "cell_type": "code",
      "execution_count": null,
      "metadata": {
        "id": "ksU2edg5zyX8"
      },
      "outputs": [],
      "source": [
        "#Data Cleaning\n",
        "# Take only petrol and diesel cars\n",
        "df['fuel_type'] = df['fuel_type'].astype(str)\n",
        "df = df[df['fuel_type'].str.contains('Petrol') | df['fuel_type'].str.contains('Diesel')]"
      ]
    },
    {
      "cell_type": "code",
      "execution_count": null,
      "metadata": {
        "colab": {
          "base_uri": "https://localhost:8080/"
        },
        "id": "0kQfrPdYz1zZ",
        "outputId": "f4bd2031-6485-4b22-e539-16a093ee1265"
      },
      "outputs": [
        {
          "data": {
            "text/plain": [
              "array(['Petrol', 'Diesel', 'Diesel Hybrid'], dtype=object)"
            ]
          },
          "execution_count": 10,
          "metadata": {},
          "output_type": "execute_result"
        }
      ],
      "source": [
        "df.fuel_type.unique()"
      ]
    },
    {
      "cell_type": "markdown",
      "metadata": {
        "id": "JaWoo7SZxLS4"
      },
      "source": [
        "Before removing null values, we see if we can do any mean or median imputation."
      ]
    },
    {
      "cell_type": "code",
      "execution_count": null,
      "metadata": {
        "colab": {
          "base_uri": "https://localhost:8080/"
        },
        "id": "4lyWHdSE-5y8",
        "outputId": "fc57d1d3-c438-43c5-d59f-3b2cbda46548"
      },
      "outputs": [
        {
          "data": {
            "text/plain": [
              "brand                           0\n",
              "year                            0\n",
              "price_in_euro                   0\n",
              "power_kw                       74\n",
              "transmission_type               0\n",
              "fuel_type                       0\n",
              "fuel_consumption_l_100km    18628\n",
              "mileage_in_km                  31\n",
              "dtype: int64"
            ]
          },
          "execution_count": 11,
          "metadata": {},
          "output_type": "execute_result"
        }
      ],
      "source": [
        "df.isnull().sum()"
      ]
    },
    {
      "cell_type": "code",
      "execution_count": null,
      "metadata": {
        "colab": {
          "base_uri": "https://localhost:8080/",
          "height": 661
        },
        "id": "7rtp8yyuvoW_",
        "outputId": "6e1c3a41-8776-4252-fa2b-a5b0a13c77a2"
      },
      "outputs": [
        {
          "name": "stderr",
          "output_type": "stream",
          "text": [
            "<ipython-input-12-abf7239a6290>:1: UserWarning: \n",
            "\n",
            "`distplot` is a deprecated function and will be removed in seaborn v0.14.0.\n",
            "\n",
            "Please adapt your code to use either `displot` (a figure-level function with\n",
            "similar flexibility) or `histplot` (an axes-level function for histograms).\n",
            "\n",
            "For a guide to updating your code to use the new functions, please see\n",
            "https://gist.github.com/mwaskom/de44147ed2974457ad6372750bbe5751\n",
            "\n",
            "  sns.distplot(df['power_kw'])\n"
          ]
        },
        {
          "data": {
            "text/plain": [
              "<Axes: xlabel='power_kw', ylabel='Density'>"
            ]
          },
          "execution_count": 12,
          "metadata": {},
          "output_type": "execute_result"
        },
        {
          "data": {
            "image/png": "[encoded data removed]",
            "text/plain": [
              "<Figure size 640x480 with 1 Axes>"
            ]
          },
          "metadata": {},
          "output_type": "display_data"
        }
      ],
      "source": [
        "sns.distplot(df['power_kw'])"
      ]
    },
    {
      "cell_type": "markdown",
      "metadata": {
        "id": "hh17FyymxaAl"
      },
      "source": [
        "For the power_kw column, we see that the distribution is skewed. Hence we perform median imputation on the power_kw column.\n",
        "\n",
        "Thus we replace missing/null values with median of power_kw."
      ]
    },
    {
      "cell_type": "code",
      "execution_count": null,
      "metadata": {
        "colab": {
          "base_uri": "https://localhost:8080/"
        },
        "id": "vqF9EO_xUKpp",
        "outputId": "031ef90e-a398-4893-e3ea-9fbf79b78017"
      },
      "outputs": [
        {
          "name": "stderr",
          "output_type": "stream",
          "text": [
            "<ipython-input-13-a0511294fd48>:3: SettingWithCopyWarning: \n",
            "A value is trying to be set on a copy of a slice from a DataFrame.\n",
            "Try using .loc[row_indexer,col_indexer] = value instead\n",
            "\n",
            "See the caveats in the documentation: https://pandas.pydata.org/pandas-docs/stable/user_guide/indexing.html#returning-a-view-versus-a-copy\n",
            "  df_not_null['power_kw']=df_not_null.power_kw.astype(int)\n"
          ]
        }
      ],
      "source": [
        "# Fill missing power_kw with the median value\n",
        "df_not_null = df.dropna(subset=['power_kw'])\n",
        "df_not_null['power_kw']=df_not_null.power_kw.astype(int)\n",
        "df['power_kw'] = df['power_kw'].astype(float)\n",
        "df['power_kw'].fillna(df_not_null['power_kw'].median(), inplace=True)"
      ]
    },
    {
      "cell_type": "markdown",
      "metadata": {
        "id": "Jqx2iDXi1T00"
      },
      "source": [
        "Convert the fuel_consumption_l_100km column string values to float values."
      ]
    },
    {
      "cell_type": "code",
      "execution_count": null,
      "metadata": {
        "id": "khaLnJWfIci4"
      },
      "outputs": [],
      "source": [
        "# convert string of fuel_consumption_l_km to float values\n",
        "\n",
        "df['fuel_consumption_l_100km'] = df['fuel_consumption_l_100km'].astype(str)\n",
        "\n",
        "# Filter out entries with units other than liters per 100 kilometers\n",
        "df = df[df['fuel_consumption_l_100km'].str.contains('l/100 km')]\n",
        "\n",
        "# Extract numeric values and convert to a consistent format\n",
        "df['fuel_consumption_l_100km'] = df['fuel_consumption_l_100km'].str.extract(r'(\\d+\\.\\d+|\\d+)').astype(float)\n"
      ]
    },
    {
      "cell_type": "markdown",
      "metadata": {
        "id": "MmqvQjb84FUQ"
      },
      "source": [
        "Check distribution plot of fuel_consumption_l_100km for mean/median imputation"
      ]
    },
    {
      "cell_type": "code",
      "execution_count": null,
      "metadata": {
        "colab": {
          "base_uri": "https://localhost:8080/",
          "height": 641
        },
        "id": "QrOsZCDM2NQx",
        "outputId": "bec3c176-dfca-4faf-e189-e04f250784fa"
      },
      "outputs": [
        {
          "name": "stderr",
          "output_type": "stream",
          "text": [
            "<ipython-input-15-e7d5026cbea5>:2: UserWarning: \n",
            "\n",
            "`distplot` is a deprecated function and will be removed in seaborn v0.14.0.\n",
            "\n",
            "Please adapt your code to use either `displot` (a figure-level function with\n",
            "similar flexibility) or `histplot` (an axes-level function for histograms).\n",
            "\n",
            "For a guide to updating your code to use the new functions, please see\n",
            "https://gist.github.com/mwaskom/de44147ed2974457ad6372750bbe5751\n",
            "\n",
            "  sns.distplot(df['fuel_consumption_l_100km'], ax=ax)\n"
          ]
        },
        {
          "data": {
            "image/png": "[encoded data removed]",
            "text/plain": [
              "<Figure size 640x480 with 1 Axes>"
            ]
          },
          "metadata": {},
          "output_type": "display_data"
        }
      ],
      "source": [
        "fig, ax = plt.subplots()\n",
        "sns.distplot(df['fuel_consumption_l_100km'], ax=ax)\n",
        "ax.set_xlim(1,31)\n",
        "plt.show()"
      ]
    },
    {
      "cell_type": "markdown",
      "metadata": {
        "id": "QIxOjTPX7BUg"
      },
      "source": [
        "Replace null values in fuel_consumption_l_100km column with the median value in that column"
      ]
    },
    {
      "cell_type": "code",
      "execution_count": null,
      "metadata": {
        "id": "U9auL-xN4zEV"
      },
      "outputs": [],
      "source": [
        "df_not_null = df.dropna(subset=['fuel_consumption_l_100km'])\n",
        "df['fuel_consumption_l_100km'].fillna(df_not_null['fuel_consumption_l_100km'].median(), inplace=True)"
      ]
    },
    {
      "cell_type": "code",
      "execution_count": null,
      "metadata": {
        "colab": {
          "base_uri": "https://localhost:8080/"
        },
        "id": "5KHHAnCq4n0m",
        "outputId": "d8d9fc81-a641-46f7-801c-5dd0642dd328"
      },
      "outputs": [
        {
          "data": {
            "text/plain": [
              "brand                        0\n",
              "year                         0\n",
              "price_in_euro                0\n",
              "power_kw                     0\n",
              "transmission_type            0\n",
              "fuel_type                    0\n",
              "fuel_consumption_l_100km     0\n",
              "mileage_in_km               31\n",
              "dtype: int64"
            ]
          },
          "execution_count": 17,
          "metadata": {},
          "output_type": "execute_result"
        }
      ],
      "source": [
        "df.isnull().sum()"
      ]
    },
    {
      "cell_type": "markdown",
      "metadata": {
        "id": "LxIyyndk6kMz"
      },
      "source": [
        "Follow the same process given above on the mileage_in_km column. First inspect the distribution and then decide on mean or median imputation."
      ]
    },
    {
      "cell_type": "code",
      "execution_count": null,
      "metadata": {
        "colab": {
          "base_uri": "https://localhost:8080/",
          "height": 656
        },
        "id": "fGUQMlnn4rDw",
        "outputId": "a716015f-2925-49b0-fbfc-5958ba5262ad"
      },
      "outputs": [
        {
          "name": "stderr",
          "output_type": "stream",
          "text": [
            "<ipython-input-18-4f8f8fd98ad1>:2: UserWarning: \n",
            "\n",
            "`distplot` is a deprecated function and will be removed in seaborn v0.14.0.\n",
            "\n",
            "Please adapt your code to use either `displot` (a figure-level function with\n",
            "similar flexibility) or `histplot` (an axes-level function for histograms).\n",
            "\n",
            "For a guide to updating your code to use the new functions, please see\n",
            "https://gist.github.com/mwaskom/de44147ed2974457ad6372750bbe5751\n",
            "\n",
            "  sns.distplot(df['mileage_in_km'], ax=ax)  # distplot is deprecate and replaced by histplot\n"
          ]
        },
        {
          "data": {
            "image/png": "[encoded data removed]",
            "text/plain": [
              "<Figure size 640x480 with 1 Axes>"
            ]
          },
          "metadata": {},
          "output_type": "display_data"
        }
      ],
      "source": [
        "fig, ax = plt.subplots()\n",
        "sns.distplot(df['mileage_in_km'], ax=ax)  # distplot is deprecate and replaced by histplot\n",
        "ax.set_xlim(0.0e6,4.0e6)\n",
        "plt.show()"
      ]
    },
    {
      "cell_type": "markdown",
      "metadata": {
        "id": "lyxID3oS61fK"
      },
      "source": [
        "Replace null values in mileage_in_km column with the median value in that column"
      ]
    },
    {
      "cell_type": "code",
      "execution_count": null,
      "metadata": {
        "id": "jtCw2MfV5-PM"
      },
      "outputs": [],
      "source": [
        "df_not_null = df.dropna(subset=['mileage_in_km'])\n",
        "df['mileage_in_km'].fillna(df_not_null['mileage_in_km'].median(), inplace=True)"
      ]
    },
    {
      "cell_type": "code",
      "execution_count": null,
      "metadata": {
        "id": "e4icDewhudfP"
      },
      "outputs": [],
      "source": [
        "df['price_in_euro']=df['price_in_euro'].astype(float)"
      ]
    },
    {
      "cell_type": "markdown",
      "metadata": {
        "id": "E0Dxn5V24egT"
      },
      "source": [
        "Change datatype of year column from string to integer."
      ]
    },
    {
      "cell_type": "code",
      "execution_count": null,
      "metadata": {
        "id": "67qPpEzZJ-Te"
      },
      "outputs": [],
      "source": [
        "# transform year from string into integer\n",
        "df['year'] = df['year'].astype(str)\n",
        "\n",
        "# Filter out non-numeric values\n",
        "numeric_years = df[df['year'].str.isnumeric()]\n",
        "\n",
        "# Convert years to integer type\n",
        "numeric_years['year'] = numeric_years['year'].astype(int)\n",
        "\n",
        "# Filter out years outside the valid range\n",
        "valid_years = numeric_years[(numeric_years['year'] >= 1995) & (numeric_years['year'] <= 2023)]\n",
        "\n",
        "df['year'] = valid_years['year']\n"
      ]
    },
    {
      "cell_type": "markdown",
      "metadata": {
        "id": "zB8y_7ZlCmEb"
      },
      "source": [
        "No null values now as shown below"
      ]
    },
    {
      "cell_type": "code",
      "execution_count": null,
      "metadata": {
        "colab": {
          "base_uri": "https://localhost:8080/"
        },
        "id": "5Bg7eJbt6JMx",
        "outputId": "37b9cef4-71d2-42ea-8918-b5d47b478879"
      },
      "outputs": [
        {
          "data": {
            "text/plain": [
              "brand                       0\n",
              "year                        0\n",
              "price_in_euro               0\n",
              "power_kw                    0\n",
              "transmission_type           0\n",
              "fuel_type                   0\n",
              "fuel_consumption_l_100km    0\n",
              "mileage_in_km               0\n",
              "dtype: int64"
            ]
          },
          "execution_count": 22,
          "metadata": {},
          "output_type": "execute_result"
        }
      ],
      "source": [
        "df.isnull().sum()"
      ]
    },
    {
      "cell_type": "code",
      "execution_count": null,
      "metadata": {
        "colab": {
          "base_uri": "https://localhost:8080/"
        },
        "id": "eGcVw1EIIbYn",
        "outputId": "1ab8c76a-81a0-44e7-8d42-1993008e1641"
      },
      "outputs": [
        {
          "name": "stdout",
          "output_type": "stream",
          "text": [
            "<class 'pandas.core.frame.DataFrame'>\n",
            "Index: 211541 entries, 0 to 251076\n",
            "Data columns (total 8 columns):\n",
            " #   Column                    Non-Null Count   Dtype  \n",
            "---  ------                    --------------   -----  \n",
            " 0   brand                     211541 non-null  object \n",
            " 1   year                      211541 non-null  int64  \n",
            " 2   price_in_euro             211541 non-null  float64\n",
            " 3   power_kw                  211541 non-null  float64\n",
            " 4   transmission_type         211541 non-null  object \n",
            " 5   fuel_type                 211541 non-null  object \n",
            " 6   fuel_consumption_l_100km  211541 non-null  float64\n",
            " 7   mileage_in_km             211541 non-null  float64\n",
            "dtypes: float64(4), int64(1), object(3)\n",
            "memory usage: 14.5+ MB\n"
          ]
        }
      ],
      "source": [
        "df.info()"
      ]
    },
    {
      "cell_type": "markdown",
      "metadata": {
        "id": "d0wvsvg7Cr04"
      },
      "source": [
        "Heatmap to show corelation between variables"
      ]
    },
    {
      "cell_type": "code",
      "execution_count": null,
      "metadata": {
        "id": "dgwe-GSr_Leh"
      },
      "outputs": [],
      "source": [
        "# Add new columns with imperial units\n",
        "\n",
        "df['power_hp'] = df['power_kw'] / 0.7457\n",
        "\n",
        "df['mpg'] = 235.215 / df['fuel_consumption_l_100km']\n",
        "\n",
        "df['mileage_in_miles'] = df['mileage_in_km'] / 1.609\n"
      ]
    },
    {
      "cell_type": "code",
      "execution_count": null,
      "metadata": {
        "colab": {
          "base_uri": "https://localhost:8080/"
        },
        "id": "xixRgllJJMzT",
        "outputId": "b351d2a5-2d78-4c86-8f33-579a21713048"
      },
      "outputs": [
        {
          "name": "stdout",
          "output_type": "stream",
          "text": [
            "DataFrame contains infinity or NaN values.\n"
          ]
        }
      ],
      "source": [
        "df.replace([np.inf, -np.inf], np.nan, inplace=True)\n",
        "\n",
        "# Check for NaN values\n",
        "inf_check = df.isna().any(axis=None)\n",
        "\n",
        "if inf_check:\n",
        "    print(\"DataFrame contains infinity or NaN values.\")\n",
        "else:\n",
        "    print(\"DataFrame does not contain infinity or NaN values.\")"
      ]
    },
    {
      "cell_type": "code",
      "execution_count": null,
      "metadata": {
        "colab": {
          "base_uri": "https://localhost:8080/"
        },
        "id": "DD_oc4-_M0K-",
        "outputId": "261312f4-c2de-4b79-d58c-51c55548109a"
      },
      "outputs": [
        {
          "data": {
            "text/plain": [
              "brand                        0\n",
              "year                         0\n",
              "price_in_euro                0\n",
              "power_kw                     0\n",
              "transmission_type            0\n",
              "fuel_type                    0\n",
              "fuel_consumption_l_100km     0\n",
              "mileage_in_km                0\n",
              "power_hp                     0\n",
              "mpg                         57\n",
              "mileage_in_miles             0\n",
              "dtype: int64"
            ]
          },
          "execution_count": 26,
          "metadata": {},
          "output_type": "execute_result"
        }
      ],
      "source": [
        "df.isnull().sum()"
      ]
    },
    {
      "cell_type": "code",
      "execution_count": null,
      "metadata": {
        "id": "u7bgBTqoM5GG"
      },
      "outputs": [],
      "source": [
        "df_not_null = df.dropna(subset = ['mpg'])\n",
        "df.fillna(df_not_null['mpg'].median(), inplace=True)"
      ]
    },
    {
      "cell_type": "code",
      "execution_count": null,
      "metadata": {
        "colab": {
          "base_uri": "https://localhost:8080/",
          "height": 558
        },
        "id": "PKFJDw8sJKFZ",
        "outputId": "4997d4d7-a761-48a0-bc0a-eb56430dcc0d"
      },
      "outputs": [
        {
          "data": {
            "text/plain": [
              "<Axes: >"
            ]
          },
          "execution_count": 28,
          "metadata": {},
          "output_type": "execute_result"
        },
        {
          "data": {
            "image/png": "[encoded data removed]",
            "text/plain": [
              "<Figure size 640x480 with 2 Axes>"
            ]
          },
          "metadata": {},
          "output_type": "display_data"
        }
      ],
      "source": [
        "df1 = df.iloc[:, 1:3].copy()\n",
        "df2 = df.iloc[:,8:].copy()\n",
        "\n",
        "df_heatmap = pd.concat([df1, df2],axis = 1)\n",
        "\n",
        "sns.heatmap(df_heatmap.corr(), cmap=\"coolwarm\")"
      ]
    },
    {
      "cell_type": "code",
      "execution_count": null,
      "metadata": {
        "id": "9dYN3NYhHlAG"
      },
      "outputs": [],
      "source": [
        "X=df[['year','power_hp', 'mpg','mileage_in_miles']]\n",
        "y=df['price_in_euro']"
      ]
    },
    {
      "cell_type": "code",
      "execution_count": null,
      "metadata": {
        "id": "v5oBRdKQJn2K"
      },
      "outputs": [],
      "source": [
        "from sklearn.linear_model import LinearRegression\n",
        "from sklearn.linear_model import Ridge\n",
        "from sklearn.tree import DecisionTreeRegressor\n",
        "from sklearn.ensemble import RandomForestRegressor\n",
        "from sklearn.ensemble import GradientBoostingRegressor\n",
        "from sklearn.model_selection import train_test_split\n",
        "from sklearn import metrics\n",
        "from sklearn.metrics import r2_score\n",
        "import statsmodels.api as sm\n",
        "from scipy import stats"
      ]
    },
    {
      "cell_type": "code",
      "execution_count": null,
      "metadata": {
        "id": "iyrHm5s0poQK"
      },
      "outputs": [],
      "source": [
        "X_train, X_test, y_train, y_test = train_test_split(X, y, test_size=0.2,random_state=42)"
      ]
    },
    {
      "cell_type": "markdown",
      "metadata": {
        "id": "ycIbDqddp-dz"
      },
      "source": [
        "Linear Regression Model"
      ]
    },
    {
      "cell_type": "code",
      "execution_count": null,
      "metadata": {
        "colab": {
          "base_uri": "https://localhost:8080/",
          "height": 74
        },
        "id": "dsuaNyOSJ0pg",
        "outputId": "b3f251ec-7c06-4534-d07c-3bc7f459dd8e"
      },
      "outputs": [
        {
          "data": {
            "text/html": [
              "<style>#sk-container-id-1 {color: black;background-color: white;}#sk-container-id-1 pre{padding: 0;}#sk-container-id-1 div.sk-toggleable {background-color: white;}#sk-container-id-1 label.sk-toggleable__label {cursor: pointer;display: block;width: 100%;margin-bottom: 0;padding: 0.3em;box-sizing: border-box;text-align: center;}#sk-container-id-1 label.sk-toggleable__label-arrow:before {content: \"▸\";float: left;margin-right: 0.25em;color: #696969;}#sk-container-id-1 label.sk-toggleable__label-arrow:hover:before {color: black;}#sk-container-id-1 div.sk-estimator:hover label.sk-toggleable__label-arrow:before {color: black;}#sk-container-id-1 div.sk-toggleable__content {max-height: 0;max-width: 0;overflow: hidden;text-align: left;background-color: #f0f8ff;}#sk-container-id-1 div.sk-toggleable__content pre {margin: 0.2em;color: black;border-radius: 0.25em;background-color: #f0f8ff;}#sk-container-id-1 input.sk-toggleable__control:checked~div.sk-toggleable__content {max-height: 200px;max-width: 100%;overflow: auto;}#sk-container-id-1 input.sk-toggleable__control:checked~label.sk-toggleable__label-arrow:before {content: \"▾\";}#sk-container-id-1 div.sk-estimator input.sk-toggleable__control:checked~label.sk-toggleable__label {background-color: #d4ebff;}#sk-container-id-1 div.sk-label input.sk-toggleable__control:checked~label.sk-toggleable__label {background-color: #d4ebff;}#sk-container-id-1 input.sk-hidden--visually {border: 0;clip: rect(1px 1px 1px 1px);clip: rect(1px, 1px, 1px, 1px);height: 1px;margin: -1px;overflow: hidden;padding: 0;position: absolute;width: 1px;}#sk-container-id-1 div.sk-estimator {font-family: monospace;background-color: #f0f8ff;border: 1px dotted black;border-radius: 0.25em;box-sizing: border-box;margin-bottom: 0.5em;}#sk-container-id-1 div.sk-estimator:hover {background-color: #d4ebff;}#sk-container-id-1 div.sk-parallel-item::after {content: \"\";width: 100%;border-bottom: 1px solid gray;flex-grow: 1;}#sk-container-id-1 div.sk-label:hover label.sk-toggleable__label {background-color: #d4ebff;}#sk-container-id-1 div.sk-serial::before {content: \"\";position: absolute;border-left: 1px solid gray;box-sizing: border-box;top: 0;bottom: 0;left: 50%;z-index: 0;}#sk-container-id-1 div.sk-serial {display: flex;flex-direction: column;align-items: center;background-color: white;padding-right: 0.2em;padding-left: 0.2em;position: relative;}#sk-container-id-1 div.sk-item {position: relative;z-index: 1;}#sk-container-id-1 div.sk-parallel {display: flex;align-items: stretch;justify-content: center;background-color: white;position: relative;}#sk-container-id-1 div.sk-item::before, #sk-container-id-1 div.sk-parallel-item::before {content: \"\";position: absolute;border-left: 1px solid gray;box-sizing: border-box;top: 0;bottom: 0;left: 50%;z-index: -1;}#sk-container-id-1 div.sk-parallel-item {display: flex;flex-direction: column;z-index: 1;position: relative;background-color: white;}#sk-container-id-1 div.sk-parallel-item:first-child::after {align-self: flex-end;width: 50%;}#sk-container-id-1 div.sk-parallel-item:last-child::after {align-self: flex-start;width: 50%;}#sk-container-id-1 div.sk-parallel-item:only-child::after {width: 0;}#sk-container-id-1 div.sk-dashed-wrapped {border: 1px dashed gray;margin: 0 0.4em 0.5em 0.4em;box-sizing: border-box;padding-bottom: 0.4em;background-color: white;}#sk-container-id-1 div.sk-label label {font-family: monospace;font-weight: bold;display: inline-block;line-height: 1.2em;}#sk-container-id-1 div.sk-label-container {text-align: center;}#sk-container-id-1 div.sk-container {/* jupyter's `normalize.less` sets `[hidden] { display: none; }` but bootstrap.min.css set `[hidden] { display: none !important; }` so we also need the `!important` here to be able to override the default hidden behavior on the sphinx rendered scikit-learn.org. See: https://github.com/scikit-learn/scikit-learn/issues/21755 */display: inline-block !important;position: relative;}#sk-container-id-1 div.sk-text-repr-fallback {display: none;}</style><div id=\"sk-container-id-1\" class=\"sk-top-container\"><div class=\"sk-text-repr-fallback\"><pre>LinearRegression()</pre><b>In a Jupyter environment, please rerun this cell to show the HTML representation or trust the notebook. <br />On GitHub, the HTML representation is unable to render, please try loading this page with nbviewer.org.</b></div><div class=\"sk-container\" hidden><div class=\"sk-item\"><div class=\"sk-estimator sk-toggleable\"><input class=\"sk-toggleable__control sk-hidden--visually\" id=\"sk-estimator-id-1\" type=\"checkbox\" checked><label for=\"sk-estimator-id-1\" class=\"sk-toggleable__label sk-toggleable__label-arrow\">LinearRegression</label><div class=\"sk-toggleable__content\"><pre>LinearRegression()</pre></div></div></div></div></div>"
            ],
            "text/plain": [
              "LinearRegression()"
            ]
          },
          "execution_count": 32,
          "metadata": {},
          "output_type": "execute_result"
        }
      ],
      "source": [
        "model = LinearRegression()\n",
        "model.fit(X_train,y_train)"
      ]
    },
    {
      "cell_type": "code",
      "execution_count": null,
      "metadata": {
        "colab": {
          "base_uri": "https://localhost:8080/"
        },
        "id": "oG9TWK1nJ_GL",
        "outputId": "c3db6646-4d47-4885-dfed-24475aa9d13a"
      },
      "outputs": [
        {
          "name": "stdout",
          "output_type": "stream",
          "text": [
            "-1684580.5879554853\n"
          ]
        }
      ],
      "source": [
        "# print the intercept\n",
        "print(model.intercept_)"
      ]
    },
    {
      "cell_type": "code",
      "execution_count": null,
      "metadata": {
        "colab": {
          "base_uri": "https://localhost:8080/"
        },
        "id": "6UhIBMODTaUS",
        "outputId": "337c4f42-34e9-4cb7-ec88-2f97b96380e5"
      },
      "outputs": [
        {
          "name": "stdout",
          "output_type": "stream",
          "text": [
            "                            OLS Regression Results                            \n",
            "==============================================================================\n",
            "Dep. Variable:          price_in_euro   R-squared:                       0.439\n",
            "Model:                            OLS   Adj. R-squared:                  0.439\n",
            "Method:                 Least Squares   F-statistic:                 3.308e+04\n",
            "Date:                Mon, 08 Apr 2024   Prob (F-statistic):               0.00\n",
            "Time:                        16:08:53   Log-Likelihood:            -1.9615e+06\n",
            "No. Observations:              169232   AIC:                         3.923e+06\n",
            "Df Residuals:                  169227   BIC:                         3.923e+06\n",
            "Df Model:                           4                                         \n",
            "Covariance Type:            nonrobust                                         \n",
            "====================================================================================\n",
            "                       coef    std err          t      P>|t|      [0.025      0.975]\n",
            "------------------------------------------------------------------------------------\n",
            "const            -1.685e+06   3.52e+04    -47.849      0.000   -1.75e+06   -1.62e+06\n",
            "year               833.9662     17.482     47.704      0.000     799.702     868.231\n",
            "power_hp           217.9314      0.793    274.949      0.000     216.378     219.485\n",
            "mpg                -31.3109      5.576     -5.616      0.000     -42.239     -20.383\n",
            "mileage_in_miles    -0.1198      0.002    -65.188      0.000      -0.123      -0.116\n",
            "==============================================================================\n",
            "Omnibus:                   610812.530   Durbin-Watson:                   1.995\n",
            "Prob(Omnibus):                  0.000   Jarque-Bera (JB):    1417408280563.377\n",
            "Skew:                          73.784   Prob(JB):                         0.00\n",
            "Kurtosis:                   14180.130   Cond. No.                     4.15e+07\n",
            "==============================================================================\n",
            "\n",
            "Notes:\n",
            "[1] Standard Errors assume that the covariance matrix of the errors is correctly specified.\n",
            "[2] The condition number is large, 4.15e+07. This might indicate that there are\n",
            "strong multicollinearity or other numerical problems.\n"
          ]
        }
      ],
      "source": [
        "X2 = sm.add_constant(X_train)\n",
        "est = sm.OLS(y_train, X2)\n",
        "est2 = est.fit()\n",
        "print(est2.summary())"
      ]
    },
    {
      "cell_type": "code",
      "execution_count": null,
      "metadata": {
        "colab": {
          "base_uri": "https://localhost:8080/",
          "height": 175
        },
        "id": "K9wcFwaFNt1d",
        "outputId": "3befb372-8864-49c5-bbbb-a07f984c9c32"
      },
      "outputs": [
        {
          "data": {
            "application/vnd.google.colaboratory.intrinsic+json": {
              "summary": "{\n  \"name\": \"coeff_df\",\n  \"rows\": 4,\n  \"fields\": [\n    {\n      \"column\": \"Coefficient\",\n      \"properties\": {\n        \"dtype\": \"number\",\n        \"std\": 401.51212368036363,\n        \"min\": -31.310911807151598,\n        \"max\": 833.9662204218862,\n        \"num_unique_values\": 4,\n        \"samples\": [\n          217.93142820929336,\n          -0.11979396316209545,\n          833.9662204218862\n        ],\n        \"semantic_type\": \"\",\n        \"description\": \"\"\n      }\n    }\n  ]\n}",
              "type": "dataframe",
              "variable_name": "coeff_df"
            },
            "text/html": [
              "\n",
              "  <div id=\"df-663800d1-975b-46cd-9b5f-64d68d649f32\" class=\"colab-df-container\">\n",
              "    <div>\n",
              "<style scoped>\n",
              "    .dataframe tbody tr th:only-of-type {\n",
              "        vertical-align: middle;\n",
              "    }\n",
              "\n",
              "    .dataframe tbody tr th {\n",
              "        vertical-align: top;\n",
              "    }\n",
              "\n",
              "    .dataframe thead th {\n",
              "        text-align: right;\n",
              "    }\n",
              "</style>\n",
              "<table border=\"1\" class=\"dataframe\">\n",
              "  <thead>\n",
              "    <tr style=\"text-align: right;\">\n",
              "      <th></th>\n",
              "      <th>Coefficient</th>\n",
              "    </tr>\n",
              "  </thead>\n",
              "  <tbody>\n",
              "    <tr>\n",
              "      <th>year</th>\n",
              "      <td>833.966220</td>\n",
              "    </tr>\n",
              "    <tr>\n",
              "      <th>power_hp</th>\n",
              "      <td>217.931428</td>\n",
              "    </tr>\n",
              "    <tr>\n",
              "      <th>mpg</th>\n",
              "      <td>-31.310912</td>\n",
              "    </tr>\n",
              "    <tr>\n",
              "      <th>mileage_in_miles</th>\n",
              "      <td>-0.119794</td>\n",
              "    </tr>\n",
              "  </tbody>\n",
              "</table>\n",
              "</div>\n",
              "    <div class=\"colab-df-buttons\">\n",
              "\n",
              "  <div class=\"colab-df-container\">\n",
              "    <button class=\"colab-df-convert\" onclick=\"convertToInteractive('df-663800d1-975b-46cd-9b5f-64d68d649f32')\"\n",
              "            title=\"Convert this dataframe to an interactive table.\"\n",
              "            style=\"display:none;\">\n",
              "\n",
              "  <svg xmlns=\"http://www.w3.org/2000/svg\" height=\"24px\" viewBox=\"0 -960 960 960\">\n",
              "    <path d=\"M120-120v-720h720v720H120Zm60-500h600v-160H180v160Zm220 220h160v-160H400v160Zm0 220h160v-160H400v160ZM180-400h160v-160H180v160Zm440 0h160v-160H620v160ZM180-180h160v-160H180v160Zm440 0h160v-160H620v160Z\"/>\n",
              "  </svg>\n",
              "    </button>\n",
              "\n",
              "  <style>\n",
              "    .colab-df-container {\n",
              "      display:flex;\n",
              "      gap: 12px;\n",
              "    }\n",
              "\n",
              "    .colab-df-convert {\n",
              "      background-color: #E8F0FE;\n",
              "      border: none;\n",
              "      border-radius: 50%;\n",
              "      cursor: pointer;\n",
              "      display: none;\n",
              "      fill: #1967D2;\n",
              "      height: 32px;\n",
              "      padding: 0 0 0 0;\n",
              "      width: 32px;\n",
              "    }\n",
              "\n",
              "    .colab-df-convert:hover {\n",
              "      background-color: #E2EBFA;\n",
              "      box-shadow: 0px 1px 2px rgba(60, 64, 67, 0.3), 0px 1px 3px 1px rgba(60, 64, 67, 0.15);\n",
              "      fill: #174EA6;\n",
              "    }\n",
              "\n",
              "    .colab-df-buttons div {\n",
              "      margin-bottom: 4px;\n",
              "    }\n",
              "\n",
              "    [theme=dark] .colab-df-convert {\n",
              "      background-color: #3B4455;\n",
              "      fill: #D2E3FC;\n",
              "    }\n",
              "\n",
              "    [theme=dark] .colab-df-convert:hover {\n",
              "      background-color: #434B5C;\n",
              "      box-shadow: 0px 1px 3px 1px rgba(0, 0, 0, 0.15);\n",
              "      filter: drop-shadow(0px 1px 2px rgba(0, 0, 0, 0.3));\n",
              "      fill: #FFFFFF;\n",
              "    }\n",
              "  </style>\n",
              "\n",
              "    <script>\n",
              "      const buttonEl =\n",
              "        document.querySelector('#df-663800d1-975b-46cd-9b5f-64d68d649f32 button.colab-df-convert');\n",
              "      buttonEl.style.display =\n",
              "        google.colab.kernel.accessAllowed ? 'block' : 'none';\n",
              "\n",
              "      async function convertToInteractive(key) {\n",
              "        const element = document.querySelector('#df-663800d1-975b-46cd-9b5f-64d68d649f32');\n",
              "        const dataTable =\n",
              "          await google.colab.kernel.invokeFunction('convertToInteractive',\n",
              "                                                    [key], {});\n",
              "        if (!dataTable) return;\n",
              "\n",
              "        const docLinkHtml = 'Like what you see? Visit the ' +\n",
              "          '<a target=\"_blank\" href=https://colab.research.google.com/notebooks/data_table.ipynb>data table notebook</a>'\n",
              "          + ' to learn more about interactive tables.';\n",
              "        element.innerHTML = '';\n",
              "        dataTable['output_type'] = 'display_data';\n",
              "        await google.colab.output.renderOutput(dataTable, element);\n",
              "        const docLink = document.createElement('div');\n",
              "        docLink.innerHTML = docLinkHtml;\n",
              "        element.appendChild(docLink);\n",
              "      }\n",
              "    </script>\n",
              "  </div>\n",
              "\n",
              "\n",
              "<div id=\"df-aa989981-ef82-49b9-9598-08ca14901bf3\">\n",
              "  <button class=\"colab-df-quickchart\" onclick=\"quickchart('df-aa989981-ef82-49b9-9598-08ca14901bf3')\"\n",
              "            title=\"Suggest charts\"\n",
              "            style=\"display:none;\">\n",
              "\n",
              "<svg xmlns=\"http://www.w3.org/2000/svg\" height=\"24px\"viewBox=\"0 0 24 24\"\n",
              "     width=\"24px\">\n",
              "    <g>\n",
              "        <path d=\"M19 3H5c-1.1 0-2 .9-2 2v14c0 1.1.9 2 2 2h14c1.1 0 2-.9 2-2V5c0-1.1-.9-2-2-2zM9 17H7v-7h2v7zm4 0h-2V7h2v10zm4 0h-2v-4h2v4z\"/>\n",
              "    </g>\n",
              "</svg>\n",
              "  </button>\n",
              "\n",
              "<style>\n",
              "  .colab-df-quickchart {\n",
              "      --bg-color: #E8F0FE;\n",
              "      --fill-color: #1967D2;\n",
              "      --hover-bg-color: #E2EBFA;\n",
              "      --hover-fill-color: #174EA6;\n",
              "      --disabled-fill-color: #AAA;\n",
              "      --disabled-bg-color: #DDD;\n",
              "  }\n",
              "\n",
              "  [theme=dark] .colab-df-quickchart {\n",
              "      --bg-color: #3B4455;\n",
              "      --fill-color: #D2E3FC;\n",
              "      --hover-bg-color: #434B5C;\n",
              "      --hover-fill-color: #FFFFFF;\n",
              "      --disabled-bg-color: #3B4455;\n",
              "      --disabled-fill-color: #666;\n",
              "  }\n",
              "\n",
              "  .colab-df-quickchart {\n",
              "    background-color: var(--bg-color);\n",
              "    border: none;\n",
              "    border-radius: 50%;\n",
              "    cursor: pointer;\n",
              "    display: none;\n",
              "    fill: var(--fill-color);\n",
              "    height: 32px;\n",
              "    padding: 0;\n",
              "    width: 32px;\n",
              "  }\n",
              "\n",
              "  .colab-df-quickchart:hover {\n",
              "    background-color: var(--hover-bg-color);\n",
              "    box-shadow: 0 1px 2px rgba(60, 64, 67, 0.3), 0 1px 3px 1px rgba(60, 64, 67, 0.15);\n",
              "    fill: var(--button-hover-fill-color);\n",
              "  }\n",
              "\n",
              "  .colab-df-quickchart-complete:disabled,\n",
              "  .colab-df-quickchart-complete:disabled:hover {\n",
              "    background-color: var(--disabled-bg-color);\n",
              "    fill: var(--disabled-fill-color);\n",
              "    box-shadow: none;\n",
              "  }\n",
              "\n",
              "  .colab-df-spinner {\n",
              "    border: 2px solid var(--fill-color);\n",
              "    border-color: transparent;\n",
              "    border-bottom-color: var(--fill-color);\n",
              "    animation:\n",
              "      spin 1s steps(1) infinite;\n",
              "  }\n",
              "\n",
              "  @keyframes spin {\n",
              "    0% {\n",
              "      border-color: transparent;\n",
              "      border-bottom-color: var(--fill-color);\n",
              "      border-left-color: var(--fill-color);\n",
              "    }\n",
              "    20% {\n",
              "      border-color: transparent;\n",
              "      border-left-color: var(--fill-color);\n",
              "      border-top-color: var(--fill-color);\n",
              "    }\n",
              "    30% {\n",
              "      border-color: transparent;\n",
              "      border-left-color: var(--fill-color);\n",
              "      border-top-color: var(--fill-color);\n",
              "      border-right-color: var(--fill-color);\n",
              "    }\n",
              "    40% {\n",
              "      border-color: transparent;\n",
              "      border-right-color: var(--fill-color);\n",
              "      border-top-color: var(--fill-color);\n",
              "    }\n",
              "    60% {\n",
              "      border-color: transparent;\n",
              "      border-right-color: var(--fill-color);\n",
              "    }\n",
              "    80% {\n",
              "      border-color: transparent;\n",
              "      border-right-color: var(--fill-color);\n",
              "      border-bottom-color: var(--fill-color);\n",
              "    }\n",
              "    90% {\n",
              "      border-color: transparent;\n",
              "      border-bottom-color: var(--fill-color);\n",
              "    }\n",
              "  }\n",
              "</style>\n",
              "\n",
              "  <script>\n",
              "    async function quickchart(key) {\n",
              "      const quickchartButtonEl =\n",
              "        document.querySelector('#' + key + ' button');\n",
              "      quickchartButtonEl.disabled = true;  // To prevent multiple clicks.\n",
              "      quickchartButtonEl.classList.add('colab-df-spinner');\n",
              "      try {\n",
              "        const charts = await google.colab.kernel.invokeFunction(\n",
              "            'suggestCharts', [key], {});\n",
              "      } catch (error) {\n",
              "        console.error('Error during call to suggestCharts:', error);\n",
              "      }\n",
              "      quickchartButtonEl.classList.remove('colab-df-spinner');\n",
              "      quickchartButtonEl.classList.add('colab-df-quickchart-complete');\n",
              "    }\n",
              "    (() => {\n",
              "      let quickchartButtonEl =\n",
              "        document.querySelector('#df-aa989981-ef82-49b9-9598-08ca14901bf3 button');\n",
              "      quickchartButtonEl.style.display =\n",
              "        google.colab.kernel.accessAllowed ? 'block' : 'none';\n",
              "    })();\n",
              "  </script>\n",
              "</div>\n",
              "    </div>\n",
              "  </div>\n"
            ],
            "text/plain": [
              "                  Coefficient\n",
              "year               833.966220\n",
              "power_hp           217.931428\n",
              "mpg                -31.310912\n",
              "mileage_in_miles    -0.119794"
            ]
          },
          "execution_count": 35,
          "metadata": {},
          "output_type": "execute_result"
        }
      ],
      "source": [
        "coeff_df = pd.DataFrame(model.coef_,X.columns,columns=['Coefficient'])\n",
        "coeff_df"
      ]
    },
    {
      "cell_type": "code",
      "execution_count": null,
      "metadata": {
        "colab": {
          "base_uri": "https://localhost:8080/"
        },
        "id": "ZkDwN1HRN98S",
        "outputId": "8d048444-6b2c-4bc5-c1f7-a775cdb8ea75"
      },
      "outputs": [
        {
          "name": "stdout",
          "output_type": "stream",
          "text": [
            "MAE: 8983.742629947725\n",
            "MSE: 454409051.86292857\n",
            "RMSE: 21316.872469077836\n",
            "R squared: 0.5419645324860002\n"
          ]
        }
      ],
      "source": [
        "predictions = model.predict(X_test)\n",
        "mae = metrics.mean_absolute_error(y_test, predictions)\n",
        "mse = metrics.mean_squared_error(y_test, predictions)\n",
        "rmse = np.sqrt(metrics.mean_squared_error(y_test, predictions))\n",
        "r_score = r2_score(y_test, predictions)\n",
        "\n",
        "print('MAE:', mae)\n",
        "print('MSE:', mse)\n",
        "print('RMSE:', rmse)\n",
        "print('R squared:',r_score )\n"
      ]
    },
    {
      "cell_type": "markdown",
      "metadata": {
        "id": "_3Umv5p0_Vlz"
      },
      "source": [
        "Decision Tree Model"
      ]
    },
    {
      "cell_type": "code",
      "execution_count": null,
      "metadata": {
        "colab": {
          "base_uri": "https://localhost:8080/"
        },
        "id": "Om9QA_pk_VUl",
        "outputId": "779df4fc-8e8f-4a02-dcc7-70b6dd841f95"
      },
      "outputs": [
        {
          "name": "stdout",
          "output_type": "stream",
          "text": [
            "MAE: 5806.383444928376\n",
            "MSE: 346714255.3569775\n",
            "RMSE: 18620.264642506496\n"
          ]
        }
      ],
      "source": [
        "dt_model = DecisionTreeRegressor()\n",
        "\n",
        "# Train the regressor on the training data\n",
        "dt_model.fit(X_train, y_train)\n",
        "\n",
        "# Predict the housing prices for the test data\n",
        "y_pred = dt_model.predict(X_test)\n",
        "\n",
        "# Calculate the mean squared error of the regressor\n",
        "mae = metrics.mean_absolute_error(y_test, y_pred)\n",
        "mse = metrics.mean_squared_error(y_test, y_pred)\n",
        "# print(\"Mean Squared Error:\", mse)\n",
        "rmse = np.sqrt(metrics.mean_squared_error(y_test, y_pred))\n",
        "print('MAE:', mae)\n",
        "print('MSE:', mse)\n",
        "print('RMSE:', rmse)"
      ]
    },
    {
      "cell_type": "markdown",
      "metadata": {
        "id": "ViKP0Fhnpzbv"
      },
      "source": [
        "Random Forest Model"
      ]
    },
    {
      "cell_type": "code",
      "execution_count": null,
      "metadata": {
        "colab": {
          "base_uri": "https://localhost:8080/"
        },
        "id": "_NVu3OjBUYIu",
        "outputId": "345d02c8-5e68-4b5f-ea63-d27f8730cc5f"
      },
      "outputs": [
        {
          "name": "stdout",
          "output_type": "stream",
          "text": [
            "MAE: 4815.949864982732\n",
            "MSE: 183692145.67021576\n",
            "RMSE: 13553.307554623549\n"
          ]
        }
      ],
      "source": [
        "rf_model = RandomForestRegressor(n_estimators=100, random_state=42)\n",
        "rf_model.fit(X_train, y_train)\n",
        "\n",
        "# Make predictions\n",
        "y_pred = rf_model.predict(X_test)\n",
        "\n",
        "# Evaluate model performance\n",
        "mae = metrics.mean_absolute_error(y_test, y_pred)\n",
        "mse = metrics.mean_squared_error(y_test, y_pred)\n",
        "# print(\"Mean Squared Error:\", mse)\n",
        "rmse = np.sqrt(metrics.mean_squared_error(y_test, y_pred))\n",
        "print('MAE:', mae)\n",
        "print('MSE:', mse)\n",
        "print('RMSE:', rmse)"
      ]
    },
    {
      "cell_type": "markdown",
      "metadata": {
        "id": "Bq9-R-8FsE3Q"
      },
      "source": [
        "Ridge Model"
      ]
    },
    {
      "cell_type": "code",
      "execution_count": null,
      "metadata": {
        "colab": {
          "base_uri": "https://localhost:8080/"
        },
        "id": "RHtNJo0ZqSgi",
        "outputId": "a87449f5-4af1-41bd-8893-01862e620134"
      },
      "outputs": [
        {
          "name": "stdout",
          "output_type": "stream",
          "text": [
            "MAE: 8983.742568490643\n",
            "MSE: 454409051.64318687\n",
            "RMSE: 21316.87246392366\n"
          ]
        }
      ],
      "source": [
        "ridge_model = Ridge(alpha=1.0)  # You can adjust the regularization strength (alpha) as needed\n",
        "ridge_model.fit(X_train, y_train)\n",
        "\n",
        "# Make predictions\n",
        "y_pred = ridge_model.predict(X_test)\n",
        "\n",
        "# Evaluate model performance\n",
        "mae = metrics.mean_absolute_error(y_test, y_pred)\n",
        "mse = metrics.mean_squared_error(y_test, y_pred)\n",
        "rmse = np.sqrt(metrics.mean_squared_error(y_test, y_pred))\n",
        "print('MAE:', mae)\n",
        "print('MSE:', mse)\n",
        "print('RMSE:', rmse)\n"
      ]
    },
    {
      "cell_type": "markdown",
      "metadata": {
        "id": "h09NUqMCsHUR"
      },
      "source": [
        "Gradient Boostin Machine (GBM) Model"
      ]
    },
    {
      "cell_type": "code",
      "execution_count": null,
      "metadata": {
        "colab": {
          "base_uri": "https://localhost:8080/"
        },
        "id": "yVlseiGSrKl-",
        "outputId": "21a7d422-c62a-486f-edbf-964a8a55dd73"
      },
      "outputs": [
        {
          "name": "stdout",
          "output_type": "stream",
          "text": [
            "MAE: 5605.188144026183\n",
            "MSE: 193324475.55616716\n",
            "RMSE: 13904.117215996388\n"
          ]
        }
      ],
      "source": [
        "gbm_model = GradientBoostingRegressor(n_estimators=100, learning_rate=0.1, random_state=42)  # Adjust parameters as needed\n",
        "gbm_model.fit(X_train, y_train)\n",
        "\n",
        "# Make predictions\n",
        "y_pred = gbm_model.predict(X_test)\n",
        "\n",
        "# Evaluate model performance\n",
        "mae = metrics.mean_absolute_error(y_test, y_pred)\n",
        "mse = metrics.mean_squared_error(y_test, y_pred)\n",
        "rmse = np.sqrt(metrics.mean_squared_error(y_test, y_pred))\n",
        "print('MAE:', mae)\n",
        "print('MSE:', mse)\n",
        "print('RMSE:', rmse)"
      ]
    },
    {
      "cell_type": "markdown",
      "metadata": {
        "id": "SetmdGDvs2Om"
      },
      "source": [
        "Neural Networks"
      ]
    },
    {
      "cell_type": "code",
      "execution_count": null,
      "metadata": {
        "id": "3kPcaUC1s_I0"
      },
      "outputs": [],
      "source": [
        "from sklearn.preprocessing import StandardScaler\n",
        "from keras.models import Sequential\n",
        "from keras.layers import Dense\n",
        "from keras.optimizers import Adam\n"
      ]
    },
    {
      "cell_type": "code",
      "execution_count": null,
      "metadata": {
        "colab": {
          "background_save": true,
          "base_uri": "https://localhost:8080/"
        },
        "id": "Bn0vowdAs3Pt",
        "outputId": "a0c8af0c-fcdb-464c-9403-632bce121f40"
      },
      "outputs": [
        {
          "name": "stderr",
          "output_type": "stream",
          "text": [
            "WARNING:absl:`lr` is deprecated in Keras optimizer, please use `learning_rate` or use the legacy optimizer, e.g.,tf.keras.optimizers.legacy.Adam.\n"
          ]
        },
        {
          "name": "stdout",
          "output_type": "stream",
          "text": [
            "Epoch 1/50\n",
            "5289/5289 [==============================] - 11s 2ms/step - loss: 941924736.0000\n",
            "Epoch 2/50\n",
            "5289/5289 [==============================] - 12s 2ms/step - loss: 646879488.0000\n",
            "Epoch 3/50\n",
            "5289/5289 [==============================] - 10s 2ms/step - loss: 628926528.0000\n",
            "Epoch 4/50\n",
            "5289/5289 [==============================] - 10s 2ms/step - loss: 618400064.0000\n",
            "Epoch 5/50\n",
            "5289/5289 [==============================] - 10s 2ms/step - loss: 606392960.0000\n",
            "Epoch 6/50\n",
            "5289/5289 [==============================] - 9s 2ms/step - loss: 596704320.0000\n",
            "Epoch 7/50\n",
            "5289/5289 [==============================] - 10s 2ms/step - loss: 586729792.0000\n",
            "Epoch 8/50\n",
            "5289/5289 [==============================] - 10s 2ms/step - loss: 575608320.0000\n",
            "Epoch 9/50\n",
            "5289/5289 [==============================] - 8s 2ms/step - loss: 567590336.0000\n",
            "Epoch 10/50\n",
            "5289/5289 [==============================] - 10s 2ms/step - loss: 558302400.0000\n",
            "Epoch 11/50\n",
            "5289/5289 [==============================] - 10s 2ms/step - loss: 551074432.0000\n",
            "Epoch 12/50\n",
            "5289/5289 [==============================] - 8s 2ms/step - loss: 543365824.0000\n",
            "Epoch 13/50\n",
            "5289/5289 [==============================] - 11s 2ms/step - loss: 535111872.0000\n",
            "Epoch 14/50\n",
            "5289/5289 [==============================] - 10s 2ms/step - loss: 528939712.0000\n",
            "Epoch 15/50\n",
            "5289/5289 [==============================] - 8s 2ms/step - loss: 522754880.0000\n",
            "Epoch 16/50\n",
            "5289/5289 [==============================] - 10s 2ms/step - loss: 517288448.0000\n",
            "Epoch 17/50\n",
            "5289/5289 [==============================] - 10s 2ms/step - loss: 511433856.0000\n",
            "Epoch 18/50\n",
            "5289/5289 [==============================] - 8s 2ms/step - loss: 505921664.0000\n",
            "Epoch 19/50\n",
            "5289/5289 [==============================] - 10s 2ms/step - loss: 502049600.0000\n",
            "Epoch 20/50\n",
            "5289/5289 [==============================] - 10s 2ms/step - loss: 498581568.0000\n",
            "Epoch 21/50\n",
            "5289/5289 [==============================] - 8s 2ms/step - loss: 494393024.0000\n",
            "Epoch 22/50\n",
            "5289/5289 [==============================] - 10s 2ms/step - loss: 490601376.0000\n",
            "Epoch 23/50\n",
            "5289/5289 [==============================] - 10s 2ms/step - loss: 487915296.0000\n",
            "Epoch 24/50\n",
            "5289/5289 [==============================] - 8s 2ms/step - loss: 485339104.0000\n",
            "Epoch 25/50\n",
            "5289/5289 [==============================] - 10s 2ms/step - loss: 482101216.0000\n",
            "Epoch 26/50\n",
            "5289/5289 [==============================] - 10s 2ms/step - loss: 480244384.0000\n",
            "Epoch 27/50\n",
            "5289/5289 [==============================] - 9s 2ms/step - loss: 478913856.0000\n",
            "Epoch 28/50\n",
            "5289/5289 [==============================] - 10s 2ms/step - loss: 477168000.0000\n",
            "Epoch 29/50\n",
            "5289/5289 [==============================] - 10s 2ms/step - loss: 475151104.0000\n",
            "Epoch 30/50\n",
            "5289/5289 [==============================] - 8s 2ms/step - loss: 474408256.0000\n",
            "Epoch 31/50\n",
            "5289/5289 [==============================] - 10s 2ms/step - loss: 472887808.0000\n",
            "Epoch 32/50\n",
            "5289/5289 [==============================] - 10s 2ms/step - loss: 471562240.0000\n",
            "Epoch 33/50\n",
            "5289/5289 [==============================] - 8s 2ms/step - loss: 470377088.0000\n",
            "Epoch 34/50\n",
            "5289/5289 [==============================] - 10s 2ms/step - loss: 469462592.0000\n",
            "Epoch 35/50\n",
            "5289/5289 [==============================] - 10s 2ms/step - loss: 468378624.0000\n",
            "Epoch 36/50\n",
            "5289/5289 [==============================] - 8s 2ms/step - loss: 467265568.0000\n",
            "Epoch 37/50\n",
            "5289/5289 [==============================] - 10s 2ms/step - loss: 466462272.0000\n",
            "Epoch 38/50\n",
            "5289/5289 [==============================] - 10s 2ms/step - loss: 465714528.0000\n",
            "Epoch 39/50\n",
            "5289/5289 [==============================] - 8s 2ms/step - loss: 465042720.0000\n",
            "Epoch 40/50\n",
            "5289/5289 [==============================] - 10s 2ms/step - loss: 464792192.0000\n",
            "Epoch 41/50\n",
            "5289/5289 [==============================] - 10s 2ms/step - loss: 463460384.0000\n",
            "Epoch 42/50\n",
            "5289/5289 [==============================] - 9s 2ms/step - loss: 463526368.0000\n",
            "Epoch 43/50\n",
            "5289/5289 [==============================] - 10s 2ms/step - loss: 462574432.0000\n",
            "Epoch 44/50\n",
            "5289/5289 [==============================] - 10s 2ms/step - loss: 461805920.0000\n",
            "Epoch 45/50\n",
            "5289/5289 [==============================] - 9s 2ms/step - loss: 461341856.0000\n",
            "Epoch 46/50\n",
            "5289/5289 [==============================] - 9s 2ms/step - loss: 460969056.0000\n",
            "Epoch 47/50\n",
            "5289/5289 [==============================] - 13s 2ms/step - loss: 461200800.0000\n",
            "Epoch 48/50\n",
            "5289/5289 [==============================] - 11s 2ms/step - loss: 460035424.0000\n",
            "Epoch 49/50\n",
            "5289/5289 [==============================] - 8s 1ms/step - loss: 459591040.0000\n",
            "Epoch 50/50\n",
            "5289/5289 [==============================] - 9s 2ms/step - loss: 459824864.0000\n",
            "1323/1323 [==============================] - 2s 1ms/step\n",
            "MSE: 221488233.13109425\n",
            "RMSE: 14882.480745194809\n"
          ]
        }
      ],
      "source": [
        "scaler = StandardScaler()\n",
        "X_train_scaled = scaler.fit_transform(X_train)\n",
        "X_test_scaled = scaler.transform(X_test)\n",
        "\n",
        "# Create neural network model\n",
        "nn_model = Sequential()\n",
        "nn_model.add(Dense(64, input_dim=X_train_scaled.shape[1], activation='relu'))  # Input layer with 64 neurons and ReLU activation\n",
        "nn_model.add(Dense(32, activation='relu'))  # Hidden layer with 32 neurons and ReLU activation\n",
        "nn_model.add(Dense(1))  # Output layer with 1 neuron for regression\n",
        "nn_model.compile(loss='mean_squared_error', optimizer=Adam(lr=0.001))  # Compile the model with mean squared error loss and Adam optimizer\n",
        "\n",
        "# Train the model\n",
        "nn_model.fit(X_train_scaled, y_train, epochs=50, batch_size=32, verbose=1)\n",
        "\n",
        "# Make predictions\n",
        "y_pred = nn_model.predict(X_test_scaled)\n",
        "\n",
        "\n",
        "# Evaluate model performance\n",
        "mse = metrics.mean_squared_error(y_test, y_pred)\n",
        "rmse = np.sqrt(metrics.mean_squared_error(y_test, y_pred))\n",
        "print('MSE:', mse)\n",
        "print('RMSE:', rmse)"
      ]
    },
    {
      "cell_type": "code",
      "execution_count": null,
      "metadata": {
        "colab": {
          "background_save": true
        },
        "id": "N16byg8F3Uct"
      },
      "outputs": [],
      "source": []
    },
    {
      "cell_type": "code",
      "execution_count": null,
      "metadata": {
        "colab": {
          "background_save": true
        },
        "id": "hdq692Oe-tZN"
      },
      "outputs": [],
      "source": []
    }
  ],
  "metadata": {
    "colab": {
      "provenance": []
    },
    "kernelspec": {
      "display_name": "Python 3",
      "name": "python3"
    },
    "language_info": {
      "name": "python"
    }
  },
  "nbformat": 4,
  "nbformat_minor": 0
}